{
 "cells": [
  {
   "cell_type": "markdown",
   "metadata": {},
   "source": [
    "   # Coding assignment: rocket\n"
   ]
  },
  {
   "cell_type": "markdown",
   "metadata": {},
   "source": [
    "Nous allons créer un script python pour calculer la vitesse et l'altitude d'une fusée depuis le lancement jusqu'au crash. Pour ce faire nous utiliserons la méthode d'Euler mentionnée plus bas."
   ]
  },
  {
   "cell_type": "markdown",
   "metadata": {},
   "source": [
    "Nous commençons par importer Numpy:"
   ]
  },
  {
   "cell_type": "code",
   "execution_count": 4,
   "metadata": {
    "collapsed": true
   },
   "outputs": [],
   "source": [
    "import numpy"
   ]
  },
  {
   "cell_type": "markdown",
   "metadata": {},
   "source": [
    "Nous initialisons $t$ et $dt$ (le pas), et calculons le nombre d'itérations nécéssaires pour arriver au temps final $T$.\n",
    "Nous créons également un tableau contenant toute les valeurs de temps contenues dans l'intervalle considéré. "
   ]
  },
  {
   "cell_type": "code",
   "execution_count": 5,
   "metadata": {
    "collapsed": false
   },
   "outputs": [],
   "source": [
    "t_final=40\n",
    "dt=0.1\n",
    "N=int(t_final/dt)+1 #nombre d'étapes\n",
    "T=numpy.linspace(0,t_final,N) #valeurs des t_n"
   ]
  },
  {
   "cell_type": "markdown",
   "metadata": {},
   "source": [
    "Initialisons les variables et fixons les conditions initiales:"
   ]
  },
  {
   "cell_type": "code",
   "execution_count": 10,
   "metadata": {
    "collapsed": true
   },
   "outputs": [],
   "source": [
    "#valeurs du problème (unités SI)\n",
    "h_0=0\n",
    "v_0=0\n",
    "\n",
    "#valeurs\n",
    "m_s=50 #masse de l'armature de la fusée\n",
    "g=9.81\n",
    "p=1.091 #densité de l'air, supposée constante\n",
    "r=0.5\n",
    "A=numpy.pi*r**2 #section transverse maximale de la fusée\n",
    "v_e=325 #vitesse d'échappement\n",
    "C_d=0.15 #coefficient de traînée\n",
    "m_p0=100 #masse initiale de carburant\n",
    "\n",
    "u=numpy.zeros((3,N)) #tableau d'inconnues\n",
    "u[0,0]=h_0 #la première ligne est la hauteur\n",
    "u[1,0]=v_0 #la deuxième ligne est la vitesse\n",
    "u[2,0]=m_p0 #la troisième ligne est la masse de carburant"
   ]
  },
  {
   "cell_type": "markdown",
   "metadata": {},
   "source": [
    "Rappelons que les équations du mouvement d'une fusée en vol purement vertical sont données par:\n",
    "\n",
    "\\begin{align}\n",
    "\\frac{dh}{dt} &= v\\\\\n",
    "(m_s+m_p) \\frac{dv}{dt}& = -(m_s+m_p)g + \\dot{m}_pv_e - \\frac{1}{2}\\rho v|v|AC_D\n",
    "\\end{align}\n",
    "\n",
    "Nous utiliserons la méthode d'Euler pour résoudre le système, qui consiste à calculer une série de solutions approximées par les formules suivantes: \n",
    "\n",
    "$$v_{n+1} = v_n + \\Delta t \\,f(v_n).$$\n",
    "$$h_{n+1} = h_n + \\Delta t \\,f(h_n).$$\n",
    "\n",
    "Nous définissons une fonction qui calculera les dérivées de l'altitude, de la vitesse et de la masse de carburant.\n",
    "\n",
    "Nous utiliserons un tableau pour regrouper les valeurs de ces variables.\n"
   ]
  },
  {
   "cell_type": "code",
   "execution_count": 11,
   "metadata": {
    "collapsed": true
   },
   "outputs": [],
   "source": [
    "def f(u,t):\n",
    "    #fonction qui est égale aux dérivées des variables par rapport au temps\n",
    "    if t<5:\n",
    "        m_pp=20 #m_pp est l'opposé de la dérivée par rapport au temps de la masse de carburant\n",
    "    else:\n",
    "        m_pp=0\n",
    "    \n",
    "    return numpy.array([u[1],-g+m_pp*v_e/(m_s+u[2])-1/2*p*u[1]*abs(u[1])*A*C_d/(m_s+u[2]),-m_pp])"
   ]
  },
  {
   "cell_type": "markdown",
   "metadata": {},
   "source": [
    "Maintenant que nous connaissons les valeurs des différentes variables ainsi que de leur dérivée, nous pouvons réaliser l'itération afin de construire la solution et de répondre aux questions. "
   ]
  },
  {
   "cell_type": "code",
   "execution_count": 12,
   "metadata": {
    "collapsed": false
   },
   "outputs": [
    {
     "name": "stdout",
     "output_type": "stream",
     "text": [
      "La masse de carburant à t=3.2s est 36.0 kg.\n",
      "La vitesse maximale est 232.106133413 m/s, au temps 5.0 s . L'altitude est alors de 523.522834292 m.\n",
      "L'altitude maximale est 1334.18294543 m, au temps 15.7 s.\n",
      "L'impact survient au temps 37.1 s, et la vitesse est de -86.0068349838 m/s.\n"
     ]
    }
   ],
   "source": [
    "for n in range(N-1): #n est le numéro de l'étape\n",
    "    u[:,n+1]=u[:,n]+dt*f(u[:,n],T[n])\n",
    "    \n",
    "    if T[n]==3.2: #calcul de la masse de carburant lorsque t=3.2s\n",
    "        print(\"La masse de carburant à t=3.2s est\",u[2,n],'kg.')\n",
    "    \n",
    "    if (u[1,n]<u[1,n-1]) and (u[1,n-1]>u[1,n-2]): #calcul du max de la vitesse\n",
    "        print(\"La vitesse maximale est\", u[1,n-1], \"m/s, au temps\", T[n-1],\"s . L'altitude est alors de\",u[0,n-1],'m.')\n",
    "        \n",
    "    if (u[0,n-1]>u[0,n] and u[0,n-1]>u[0,n-2]): #calcul du max de l'altitude\n",
    "        print(\"L'altitude maximale est\", u[0,n-1],\"m, au temps\", T[n-1],'s.')\n",
    "        \n",
    "    if (abs(u[0,n-1])<abs(u[0,n-2])) and (abs(u[0,n-1])<abs(u[0,n])): #calcul de la vitesse lors de l'impact, et du temps\n",
    "        print(\"L'impact survient au temps\",T[n-1],'s, et la vitesse est de',u[1,n-1],'m/s.')"
   ]
  },
  {
   "cell_type": "markdown",
   "metadata": {
    "collapsed": true
   },
   "source": [
    "Le code nous affiche bien les valeurs nécéssaires pour répondre aux questions."
   ]
  },
  {
   "cell_type": "code",
   "execution_count": 13,
   "metadata": {
    "collapsed": false
   },
   "outputs": [
    {
     "data": {
      "text/html": [
       "<link href='http://fonts.googleapis.com/css?family=Alegreya+Sans:100,300,400,500,700,800,900,100italic,300italic,400italic,500italic,700italic,800italic,900italic' rel='stylesheet' type='text/css'>\n",
       "<link href='http://fonts.googleapis.com/css?family=Arvo:400,700,400italic' rel='stylesheet' type='text/css'>\n",
       "<link href='http://fonts.googleapis.com/css?family=PT+Mono' rel='stylesheet' type='text/css'>\n",
       "<link href='http://fonts.googleapis.com/css?family=Shadows+Into+Light' rel='stylesheet' type='text/css'>\n",
       "<link href='http://fonts.googleapis.com/css?family=Nixie+One' rel='stylesheet' type='text/css'>\n",
       "<style>\n",
       "\n",
       "@font-face {\n",
       "    font-family: \"Computer Modern\";\n",
       "    src: url('http://mirrors.ctan.org/fonts/cm-unicode/fonts/otf/cmunss.otf');\n",
       "}\n",
       "\n",
       "#notebook_panel { /* main background */\n",
       "    background: rgb(245,245,245);\n",
       "}\n",
       "\n",
       "div.cell { /* set cell width */\n",
       "    width: 750px;\n",
       "}\n",
       "\n",
       "div #notebook { /* centre the content */\n",
       "    background: #fff; /* white background for content */\n",
       "    width: 1000px;\n",
       "    margin: auto;\n",
       "    padding-left: 0em;\n",
       "}\n",
       "\n",
       "#notebook li { /* More space between bullet points */\n",
       "    margin-top:0.8em;\n",
       "}\n",
       "\n",
       "/* draw border around running cells */\n",
       "div.cell.border-box-sizing.code_cell.running { \n",
       "    border: 1px solid #111;\n",
       "}\n",
       "\n",
       "/* Put a solid color box around each cell and its output, visually linking them*/\n",
       "div.cell.code_cell {\n",
       "    background-color: rgb(256,256,256); \n",
       "    border-radius: 0px; \n",
       "    padding: 0.5em;\n",
       "    margin-left:1em;\n",
       "    margin-top: 1em;\n",
       "}\n",
       "\n",
       "div.text_cell_render{\n",
       "    font-family: 'Alegreya Sans' sans-serif;\n",
       "    line-height: 140%;\n",
       "    font-size: 125%;\n",
       "    font-weight: 400;\n",
       "    width:600px;\n",
       "    margin-left:auto;\n",
       "    margin-right:auto;\n",
       "}\n",
       "\n",
       "\n",
       "/* Formatting for header cells */\n",
       ".text_cell_render h1 {\n",
       "    font-family: 'Nixie One', serif;\n",
       "    font-style:regular;\n",
       "    font-weight: 400;    \n",
       "    font-size: 45pt;\n",
       "    line-height: 100%;\n",
       "    color: rgb(0,51,102);\n",
       "    margin-bottom: 0.5em;\n",
       "    margin-top: 0.5em;\n",
       "    display: block;\n",
       "}\n",
       "\n",
       ".text_cell_render h2 {\n",
       "    font-family: 'Nixie One', serif;\n",
       "    font-weight: 400;\n",
       "    font-size: 30pt;\n",
       "    line-height: 100%;\n",
       "    color: rgb(0,51,102);\n",
       "    margin-bottom: 0.1em;\n",
       "    margin-top: 0.3em;\n",
       "    display: block;\n",
       "}\t\n",
       "\n",
       ".text_cell_render h3 {\n",
       "    font-family: 'Nixie One', serif;\n",
       "    margin-top:16px;\n",
       "    font-size: 22pt;\n",
       "    font-weight: 600;\n",
       "    margin-bottom: 3px;\n",
       "    font-style: regular;\n",
       "    color: rgb(102,102,0);\n",
       "}\n",
       "\n",
       ".text_cell_render h4 {    /*Use this for captions*/\n",
       "    font-family: 'Nixie One', serif;\n",
       "    font-size: 14pt;\n",
       "    text-align: center;\n",
       "    margin-top: 0em;\n",
       "    margin-bottom: 2em;\n",
       "    font-style: regular;\n",
       "}\n",
       "\n",
       ".text_cell_render h5 {  /*Use this for small titles*/\n",
       "    font-family: 'Nixie One', sans-serif;\n",
       "    font-weight: 400;\n",
       "    font-size: 16pt;\n",
       "    color: rgb(163,0,0);\n",
       "    font-style: italic;\n",
       "    margin-bottom: .1em;\n",
       "    margin-top: 0.8em;\n",
       "    display: block;\n",
       "}\n",
       "\n",
       ".text_cell_render h6 { /*use this for copyright note*/\n",
       "    font-family: 'PT Mono', sans-serif;\n",
       "    font-weight: 300;\n",
       "    font-size: 9pt;\n",
       "    line-height: 100%;\n",
       "    color: grey;\n",
       "    margin-bottom: 1px;\n",
       "    margin-top: 1px;\n",
       "}\n",
       "\n",
       ".CodeMirror{\n",
       "    font-family: \"PT Mono\";\n",
       "    font-size: 90%;\n",
       "}\n",
       "\n",
       "</style>\n",
       "<script>\n",
       "    MathJax.Hub.Config({\n",
       "                        TeX: {\n",
       "                           extensions: [\"AMSmath.js\"],\n",
       "                           equationNumbers: { autoNumber: \"AMS\", useLabelIds: true}\n",
       "                           },\n",
       "                tex2jax: {\n",
       "                    inlineMath: [ ['$','$'], [\"\\\\(\",\"\\\\)\"] ],\n",
       "                    displayMath: [ ['$$','$$'], [\"\\\\[\",\"\\\\]\"] ]\n",
       "                },\n",
       "                displayAlign: 'center', // Change this to 'center' to center equations.\n",
       "                \"HTML-CSS\": {\n",
       "                    styles: {'.MathJax_Display': {\"margin\": 4}}\n",
       "                }\n",
       "        });\n",
       "</script>\n"
      ],
      "text/plain": [
       "<IPython.core.display.HTML object>"
      ]
     },
     "execution_count": 13,
     "metadata": {},
     "output_type": "execute_result"
    }
   ],
   "source": [
    "#Cette case sert à loader le style du notebook.\n",
    "from IPython.core.display import HTML\n",
    "css_file = '../../styles/numericalmoocstyle.css'\n",
    "HTML(open(css_file, \"r\").read())"
   ]
  },
  {
   "cell_type": "code",
   "execution_count": null,
   "metadata": {
    "collapsed": true
   },
   "outputs": [],
   "source": []
  }
 ],
 "metadata": {
  "kernelspec": {
   "display_name": "Python 3",
   "language": "python",
   "name": "python3"
  },
  "language_info": {
   "codemirror_mode": {
    "name": "ipython",
    "version": 3
   },
   "file_extension": ".py",
   "mimetype": "text/x-python",
   "name": "python",
   "nbconvert_exporter": "python",
   "pygments_lexer": "ipython3",
   "version": "3.4.3"
  }
 },
 "nbformat": 4,
 "nbformat_minor": 0
}
